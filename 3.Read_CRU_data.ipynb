{
 "cells": [
  {
   "cell_type": "markdown",
   "metadata": {},
   "source": [
    "## Pre-processing of CRU climatic data"
   ]
  },
  {
   "cell_type": "code",
   "execution_count": 1,
   "metadata": {},
   "outputs": [],
   "source": [
    "import xarray as xr\n",
    "import numpy as np\n",
    "\n",
    "import os\n",
    "import pandas as pd\n",
    "import datetime as dt\n",
    "import matplotlib.pyplot as plt\n",
    "\n",
    "%matplotlib inline\n",
    "%config InlineBackend.figure_format = 'retina'"
   ]
  },
  {
   "cell_type": "code",
   "execution_count": 25,
   "metadata": {},
   "outputs": [],
   "source": [
    "vap = xr.open_dataset('./Data/CRU/cru_ts4.00.1901.2015.vap.dat.nc') # hPa\n",
    "tmp = xr.open_dataset('./Data/CRU/cru_ts4.00.1901.2015.tmp.dat.nc') # °C\n",
    "pet = xr.open_dataset('./Data/CRU/cru_ts4.00.1901.2015.pet.dat.nc') # mm/day\n",
    "tmx = xr.open_dataset('./Data/CRU/cru_ts4.00.1901.2015.tmx.dat.nc') # °C\n",
    "pre = xr.open_dataset('./Data/CRU/cru_ts4.00.1901.2015.pre.dat.nc') # mm/month"
   ]
  },
  {
   "cell_type": "markdown",
   "metadata": {},
   "source": [
    "### locations of selected sites"
   ]
  },
  {
   "cell_type": "code",
   "execution_count": 31,
   "metadata": {},
   "outputs": [],
   "source": [
    "def find_nearest(array, value):\n",
    "    idx = (np.abs(array - value)).argmin()\n",
    "    return array[idx]"
   ]
  },
  {
   "cell_type": "code",
   "execution_count": 32,
   "metadata": {},
   "outputs": [],
   "source": [
    "loc = pd.read_excel('./Data/Tree_Ring/site_info.xlsx',index_col=0)"
   ]
  },
  {
   "cell_type": "code",
   "execution_count": 41,
   "metadata": {},
   "outputs": [],
   "source": [
    "vap_all = []\n",
    "tmp_all = []\n",
    "pet_all = []\n",
    "tmx_all = []\n",
    "pre_all = []\n",
    "\n",
    "for site in loc.index:\n",
    "    lat = loc[loc.index==site].Lat.values[0]\n",
    "    lon = loc[loc.index==site].Lon.values[0]\n",
    "\n",
    "    lat_nearest = find_nearest(vap.lat.values,lat)\n",
    "    lon_nearest = find_nearest(vap.lon.values,lon)\n",
    "\n",
    "    vap_site = vap.sel(lat=lat_nearest, lon=lon_nearest).vap.values#[:,None]\n",
    "    tmp_site = tmp.sel(lat=lat_nearest, lon=lon_nearest).tmp.values#[:,None]\n",
    "    pet_site = pet.sel(lat=lat_nearest, lon=lon_nearest).pet.values#[:,None]\n",
    "    tmx_site = tmx.sel(lat=lat_nearest, lon=lon_nearest).tmx.values#[:,None]\n",
    "    pre_site = pre.sel(lat=lat_nearest, lon=lon_nearest).pre.values#[:,None]\n",
    "\n",
    "    vap_all.append(vap_site)\n",
    "    tmp_all.append(tmp_site)\n",
    "    pet_all.append(pet_site)\n",
    "    tmx_all.append(tmx_site)\n",
    "    pre_all.append(pre_site)\n",
    "\n",
    "vap_all = np.array(vap_all).transpose()\n",
    "tmp_all = np.array(tmp_all).transpose()\n",
    "pet_all = np.array(pet_all).transpose()\n",
    "tmx_all = np.array(tmx_all).transpose()\n",
    "pre_all = np.array(pre_all).transpose()"
   ]
  },
  {
   "cell_type": "code",
   "execution_count": 44,
   "metadata": {},
   "outputs": [],
   "source": [
    "date = pd.date_range('1901-01','2016-01',freq='M')\n",
    "\n",
    "vap_all = pd.DataFrame(vap_all,columns=loc.index,index=date)\n",
    "tmp_all = pd.DataFrame(tmp_all,columns=loc.index,index=date)\n",
    "pet_all = pd.DataFrame(pet_all,columns=loc.index,index=date)\n",
    "tmx_all = pd.DataFrame(tmx_all,columns=loc.index,index=date)\n",
    "pre_all = pd.DataFrame(pre_all,columns=loc.index,index=date)\n",
    "\n",
    "# vap_all = vap_all.set_index(date)\n",
    "# tmp_all = tmp_all.set_index(date)"
   ]
  },
  {
   "cell_type": "markdown",
   "metadata": {},
   "source": [
    "### calculate relative humidity and VPD"
   ]
  },
  {
   "cell_type": "code",
   "execution_count": 7,
   "metadata": {},
   "outputs": [],
   "source": [
    "# compute saturation vapor pressure\n",
    "\n",
    "def saturation_vapor_pressure(temp):\n",
    "    '''\n",
    "    To compute the saturation vapor pressure at specified temperature(°C)\n",
    "    \n",
    "    Input:\n",
    "    temp: temperature in °C\n",
    "    \n",
    "    Output:\n",
    "    es: saturation vapor pressure in hPa\n",
    "    \n",
    "    '''\n",
    "    temp = temp + 273.15 # °C --> °K\n",
    "    es = 611*np.exp(2.5*10**6/461*(1/273.16-1/temp)) # Pa\n",
    "    es = es/100 # Pa --> hPa\n",
    "    \n",
    "    return es\n",
    "\n",
    "\n",
    "def relative_humidity(temp,vap):\n",
    "    \n",
    "    '''\n",
    "    To compute the relative humidity at specified temperature and water vapor pressure\n",
    "    \n",
    "    Input:\n",
    "    temp: temperature in °C\n",
    "    vap:  water vapor pressure in hPa\n",
    "    \n",
    "    Output:\n",
    "    RH: relative humidity (%)\n",
    "    '''\n",
    "    \n",
    "    es = saturation_vapor_pressure(temp)\n",
    "    RH = vap/es * 100\n",
    "    \n",
    "    return RH\n",
    "\n",
    "def vapor_pressure_deficit(temp,vap):\n",
    "    \n",
    "    '''\n",
    "    To compute the vapor pressure deficit at specified temperature and water vapor pressure\n",
    "    \n",
    "    Input:\n",
    "    temp: temperature in °C\n",
    "    vap:  water vapor pressure in hPa\n",
    "    \n",
    "    Output:\n",
    "    VPD: vapor pressure deficit in hPa\n",
    "    '''\n",
    "    \n",
    "    es  = saturation_vapor_pressure(temp)\n",
    "    VPD = es - vap\n",
    "    \n",
    "    return VPD"
   ]
  },
  {
   "cell_type": "code",
   "execution_count": 8,
   "metadata": {},
   "outputs": [],
   "source": [
    "RH_all  = relative_humidity(tmp_all,vap_all) \n",
    "VPD_all = vapor_pressure_deficit(tmp_all,vap_all) # hPa"
   ]
  },
  {
   "cell_type": "code",
   "execution_count": 48,
   "metadata": {},
   "outputs": [],
   "source": [
    "tmp_all.to_csv('./Data/CRU/Temp_monthly_all_sites.csv')\n",
    "VPD_all.to_csv('./Data/CRU/VPD_monthly_all_sites.csv')\n",
    "RH_all.to_csv('./Data/CRU/RH_monthly_all_sites.csv')\n",
    "pet_all.to_csv('./Data/CRU/Pet_monthly_all_sites.csv')\n",
    "tmx_all.to_csv('./Data/CRU/Tmx_monthly_all_sites.csv')\n",
    "pre_all.to_csv('./Data/CRU/Pre_monthly_all_sites.csv')"
   ]
  },
  {
   "cell_type": "markdown",
   "metadata": {},
   "source": [
    "Select growing season period and calculate the annual average value \n",
    "\n",
    "Growing season: May - Sep"
   ]
  },
  {
   "cell_type": "code",
   "execution_count": 56,
   "metadata": {},
   "outputs": [],
   "source": [
    "RH_all['Year'] = RH_all.index.year\n",
    "RH_all_GS = RH_all[(RH_all.index.month>=5)&(RH_all.index.month<=9)]\n",
    "RH_annual = RH_all_GS.groupby('Year').mean()"
   ]
  },
  {
   "cell_type": "code",
   "execution_count": 57,
   "metadata": {},
   "outputs": [],
   "source": [
    "VPD_all['Year'] = VPD_all.index.year\n",
    "VPD_all_GS = VPD_all[(VPD_all.index.month>=5)&(VPD_all.index.month<=9)]\n",
    "VPD_annual = VPD_all_GS.groupby('Year').mean()"
   ]
  },
  {
   "cell_type": "code",
   "execution_count": 53,
   "metadata": {},
   "outputs": [],
   "source": [
    "tmp_all['Year'] = tmp_all.index.year\n",
    "tmp_all_GS = tmp_all[(tmp_all.index.month>=5)&(tmp_all.index.month<=9)]\n",
    "tmp_annual = tmp_all_GS.groupby('Year').mean()"
   ]
  },
  {
   "cell_type": "code",
   "execution_count": 49,
   "metadata": {},
   "outputs": [],
   "source": [
    "pet_all['Year'] = pet_all.index.year\n",
    "pet_all_GS = pet_all[(pet_all.index.month>=5)&(pet_all.index.month<=9)]\n",
    "pet_annual = pet_all_GS.groupby('Year').mean()"
   ]
  },
  {
   "cell_type": "code",
   "execution_count": 50,
   "metadata": {},
   "outputs": [],
   "source": [
    "tmx_all['Year'] = tmx_all.index.year\n",
    "tmx_all_GS = tmx_all[(tmx_all.index.month>=5)&(tmx_all.index.month<=9)]\n",
    "tmx_annual = tmx_all_GS.groupby('Year').mean()"
   ]
  },
  {
   "cell_type": "code",
   "execution_count": 55,
   "metadata": {},
   "outputs": [],
   "source": [
    "pre_all['Year'] = pre_all.index.year\n",
    "pre_all_GS = pre_all[(pre_all.index.month>=5)&(pre_all.index.month<=9)]\n",
    "pre_annual = pre_all_GS.groupby('Year').mean()"
   ]
  },
  {
   "cell_type": "code",
   "execution_count": 58,
   "metadata": {},
   "outputs": [],
   "source": [
    "tmp_annual.to_csv('./Data/CRU/Temp_all_sites.csv')\n",
    "VPD_annual.to_csv('./Data/CRU/VPD_all_sites.csv')\n",
    "RH_annual.to_csv('./Data/CRU/RH_all_sites.csv')\n",
    "tmx_annual.to_csv('./Data/CRU/Tmx_all_sites.csv')\n",
    "pet_annual.to_csv('./Data/CRU/Pet_all_sites.csv')\n",
    "pre_annual.to_csv('./Data/CRU/Pre_all_sites.csv')"
   ]
  },
  {
   "cell_type": "code",
   "execution_count": null,
   "metadata": {},
   "outputs": [],
   "source": []
  }
 ],
 "metadata": {
  "kernelspec": {
   "display_name": "Python 3",
   "language": "python",
   "name": "python3"
  },
  "language_info": {
   "codemirror_mode": {
    "name": "ipython",
    "version": 3
   },
   "file_extension": ".py",
   "mimetype": "text/x-python",
   "name": "python",
   "nbconvert_exporter": "python",
   "pygments_lexer": "ipython3",
   "version": "3.7.9"
  }
 },
 "nbformat": 4,
 "nbformat_minor": 4
}
